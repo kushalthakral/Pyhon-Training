{
 "cells": [
  {
   "cell_type": "code",
   "execution_count": 84,
   "metadata": {},
   "outputs": [],
   "source": [
    "a = \"\"\"Six more people, including three Army personnel, have tested positive for COVID-19 in Arunachal Pradesh, taking the total number of cases in the state to 67 a health department official said on Friday Three Army men tested positive for the disease in Singchung sub-division of West Kameng district on Thursday night, while two persons were detected with the infection in Changlang and one in Longding, he said\"\"\""
   ]
  },
  {
   "cell_type": "code",
   "execution_count": 85,
   "metadata": {},
   "outputs": [
    {
     "name": "stdout",
     "output_type": "stream",
     "text": [
      "['Six', 'more', 'people,', 'including', 'three', 'Army', 'personnel,', 'have', 'tested', 'positive', 'for', 'COVID-19', 'in', 'Arunachal', 'Pradesh,', 'taking', 'the', 'total', 'number', 'of', 'cases', 'in', 'the', 'state', 'to', '67', 'a', 'health', 'department', 'official', 'said', 'on', 'Friday', 'Three', 'Army', 'men', 'tested', 'positive', 'for', 'the', 'disease', 'in', 'Singchung', 'sub-division', 'of', 'West', 'Kameng', 'district', 'on', 'Thursday', 'night,', 'while', 'two', 'persons', 'were', 'detected', 'with', 'the', 'infection', 'in', 'Changlang', 'and', 'one', 'in', 'Longding,', 'he', 'said']\n"
     ]
    }
   ],
   "source": [
    "b = a.split()\n",
    "print(b)"
   ]
  },
  {
   "cell_type": "code",
   "execution_count": 86,
   "metadata": {},
   "outputs": [
    {
     "name": "stdout",
     "output_type": "stream",
     "text": [
      "Six 1\n",
      "more 1\n",
      "people, 1\n",
      "including 1\n",
      "three 1\n",
      "Army 2\n",
      "personnel, 1\n",
      "have 1\n",
      "tested 2\n",
      "positive 2\n",
      "for 2\n",
      "COVID-19 1\n",
      "in 5\n",
      "Arunachal 1\n",
      "Pradesh, 1\n",
      "taking 1\n",
      "the 4\n",
      "total 1\n",
      "number 1\n",
      "of 2\n",
      "cases 1\n",
      "state 1\n",
      "to 1\n",
      "67 1\n",
      "a 1\n",
      "health 1\n",
      "department 1\n",
      "official 1\n",
      "said 2\n",
      "on 2\n",
      "Friday 1\n",
      "Three 1\n",
      "men 1\n",
      "disease 1\n",
      "Singchung 1\n",
      "sub-division 1\n",
      "West 1\n",
      "Kameng 1\n",
      "district 1\n",
      "Thursday 1\n",
      "night, 1\n",
      "while 1\n",
      "two 1\n",
      "persons 1\n",
      "were 1\n",
      "detected 1\n",
      "with 1\n",
      "infection 1\n",
      "Changlang 1\n",
      "and 1\n",
      "one 1\n",
      "Longding, 1\n",
      "he 1\n"
     ]
    }
   ],
   "source": [
    "c = []\n",
    "for i in b:\n",
    "    c.append(i)\n",
    "    \n",
    "    if i in c and c.count(i)<2:\n",
    "        print(i,b.count(i))"
   ]
  }
 ],
 "metadata": {
  "kernelspec": {
   "display_name": "Python 3",
   "language": "python",
   "name": "python3"
  },
  "language_info": {
   "codemirror_mode": {
    "name": "ipython",
    "version": 3
   },
   "file_extension": ".py",
   "mimetype": "text/x-python",
   "name": "python",
   "nbconvert_exporter": "python",
   "pygments_lexer": "ipython3",
   "version": "3.7.4"
  }
 },
 "nbformat": 4,
 "nbformat_minor": 2
}
